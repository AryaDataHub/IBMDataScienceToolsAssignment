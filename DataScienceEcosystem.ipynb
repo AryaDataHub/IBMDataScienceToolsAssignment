{
 "cells": [
  {
   "cell_type": "markdown",
   "id": "500cb2c3-c1dd-4eec-b6b9-2fab634166ef",
   "metadata": {},
   "source": [
    "<center>\n",
    "    <img src=\"https://cf-courses-data.s3.us.cloud-object-storage.appdomain.cloud/IBMDeveloperSkillsNetwork-DS0105EN-SkillsNetwork/labs/Module2/images/SN_web_lightmode.png\" width=\"300\" alt=\"cognitiveclass.ai logo\">\n",
    "</center>\n"
   ]
  },
  {
   "cell_type": "markdown",
   "id": "954cf910-a19e-4a2a-ab76-cb352c5cf805",
   "metadata": {},
   "source": [
    "# Data Science Tools and Ecosystem"
   ]
  },
  {
   "cell_type": "markdown",
   "id": "66985fa9-7d75-4b60-af92-a35bb412d64d",
   "metadata": {},
   "source": [
    "In this notebook, Data Science Tools and Ecosystem are Summarized."
   ]
  },
  {
   "cell_type": "markdown",
   "id": "7106c1a0-bcd1-4db4-9b5a-a2fd3efeae01",
   "metadata": {},
   "source": [
    "**Objectives (key takeaways from this course):**\n",
    "- Identify the criteria and roles for determining the language to learn.\n",
    "- Identify the users and benefits of Python.\n",
    "- Identify the users and uses of R language.\n",
    "- Define SQL elements and list their benefits.\n",
    "- Review languages such as Java, Scala, C++, JavaScript and Julia.\n",
    "- List the global communities for connecting with other users."
   ]
  },
  {
   "cell_type": "markdown",
   "id": "261e88be-c999-4b1f-9091-6daee6ed272b",
   "metadata": {},
   "source": [
    "**Some of the popular languages that Data Scientists use are as follows:**\n",
    "1. Python\n",
    "2. SQL\n",
    "3. R\n",
    "4. VBA\n",
    "5. Julia\n",
    "6. JavaScript\n",
    "7. Java\n",
    "8. Scala"
   ]
  },
  {
   "cell_type": "markdown",
   "id": "fec69a9d-f479-4c9f-ac7b-9b349189d61c",
   "metadata": {},
   "source": [
    "**Some of the commonly used libraries used by Data Scientists are as follows:**\n",
    "1. NumPy\n",
    "2. Pandas\n",
    "3. PyTorch\n",
    "4. SciPy\n",
    "5. Scikit-Learn\n",
    "6. TensorFlow\n",
    "7. Matplotlib\n",
    "8. ggplot2\n",
    "9. Plotly\n",
    "10. Dplyr\n",
    "11. Shiny"
   ]
  },
  {
   "cell_type": "markdown",
   "id": "639e9526-1bac-4f45-8866-e3ef65c3b46f",
   "metadata": {},
   "source": [
    "| **Data Science Tools** |\n",
    "| ---------------------- |\n",
    "| Jupyter Notebook |\n",
    "| RStudio |\n",
    "| Spyder |\n",
    "| JupyterLite |"
   ]
  },
  {
   "cell_type": "markdown",
   "id": "f7a0116a-d5c5-4841-873b-c722b1a6c3d0",
   "metadata": {},
   "source": [
    "### Below are few examples of evaluating arithmetic expressions in Python"
   ]
  },
  {
   "cell_type": "code",
   "execution_count": 1,
   "id": "3170ace0-c513-4cba-87df-8e917ed26c25",
   "metadata": {
    "tags": []
   },
   "outputs": [
    {
     "data": {
      "text/plain": [
       "17"
      ]
     },
     "execution_count": 1,
     "metadata": {},
     "output_type": "execute_result"
    }
   ],
   "source": [
    "# This is a simple arithmetic expression to multiply then add it to integer\n",
    "(3*4) + 5"
   ]
  },
  {
   "cell_type": "code",
   "execution_count": 2,
   "id": "d303d102-18ce-4dff-a7e5-c4ccee88c8f3",
   "metadata": {
    "tags": []
   },
   "outputs": [
    {
     "data": {
      "text/plain": [
       "3.3333333333333335"
      ]
     },
     "execution_count": 2,
     "metadata": {},
     "output_type": "execute_result"
    }
   ],
   "source": [
    "# This will convert 200 minutes to hours by dividing it by 60\n",
    "200 / 60"
   ]
  },
  {
   "cell_type": "markdown",
   "id": "38018fad-4d16-4b55-a608-1a2848dd1079",
   "metadata": {
    "tags": []
   },
   "source": [
    "## Author\n",
    "Arya Bhushan"
   ]
  },
  {
   "cell_type": "code",
   "execution_count": null,
   "id": "b0d8db52-b695-4eba-8855-0b99d4324b90",
   "metadata": {},
   "outputs": [],
   "source": []
  }
 ],
 "metadata": {
  "kernelspec": {
   "display_name": "Python",
   "language": "python",
   "name": "conda-env-python-py"
  },
  "language_info": {
   "codemirror_mode": {
    "name": "ipython",
    "version": 3
   },
   "file_extension": ".py",
   "mimetype": "text/x-python",
   "name": "python",
   "nbconvert_exporter": "python",
   "pygments_lexer": "ipython3",
   "version": "3.7.12"
  }
 },
 "nbformat": 4,
 "nbformat_minor": 5
}
